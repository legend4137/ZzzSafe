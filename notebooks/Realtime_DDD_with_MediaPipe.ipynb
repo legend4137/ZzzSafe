{
 "cells": [
  {
   "cell_type": "code",
   "execution_count": 3,
   "id": "190c474a-ac11-4089-8e21-682b8155473b",
   "metadata": {},
   "outputs": [],
   "source": [
    "import cv2\n",
    "import mediapipe as mp\n",
    "import numpy as np\n",
    "from scipy.spatial import distance"
   ]
  },
  {
   "cell_type": "code",
   "execution_count": 4,
   "id": "5bd25434-7318-4c25-9357-f85a3c640bd2",
   "metadata": {},
   "outputs": [],
   "source": [
    "mp_face_mesh = mp.solutions.face_mesh\n",
    "face_mesh = mp_face_mesh.FaceMesh(static_image_mode=False, max_num_faces=1)\n",
    "mp_drawing = mp.solutions.drawing_utils"
   ]
  },
  {
   "cell_type": "code",
   "execution_count": 5,
   "id": "507ebf72-92d0-4158-838b-dc679f101838",
   "metadata": {},
   "outputs": [],
   "source": [
    "# EAR calculation\n",
    "def calculate_ear(eye):\n",
    "    A = distance.euclidean(eye[1], eye[5])\n",
    "    B = distance.euclidean(eye[2], eye[4])\n",
    "    C = distance.euclidean(eye[0], eye[3])\n",
    "    return (A + B) / (2.0 * C)\n",
    "\n",
    "# MAR calculation\n",
    "def calculate_mar(mouth):\n",
    "    A = distance.euclidean(mouth[1], mouth[7])\n",
    "    B = distance.euclidean(mouth[2], mouth[6])\n",
    "    C = distance.euclidean(mouth[3], mouth[5])\n",
    "    D = distance.euclidean(mouth[0], mouth[4])\n",
    "    return (A + B + C) / (3.0 * D)"
   ]
  },
  {
   "cell_type": "code",
   "execution_count": 9,
   "id": "f5c8eb5b-18e3-48a9-af0a-f3fd53eb0fde",
   "metadata": {},
   "outputs": [],
   "source": [
    "EAR_THRESHOLD = 0.24\n",
    "MAR_THRESHOLD = 0.6"
   ]
  },
  {
   "cell_type": "code",
   "execution_count": 7,
   "id": "454d1653-54b2-4eef-8806-81473ed9fada",
   "metadata": {},
   "outputs": [],
   "source": [
    "LEFT_EYE = [362, 385, 387, 263, 373, 380]\n",
    "RIGHT_EYE = [33, 160, 158, 133, 153, 144]\n",
    "OUTER_MOUTH = [61, 81, 311, 308, 402, 314, 317, 87]"
   ]
  },
  {
   "cell_type": "code",
   "execution_count": 8,
   "id": "e14bc210-55df-4ecd-8e90-35a20ca94f3f",
   "metadata": {},
   "outputs": [],
   "source": [
    "cap = cv2.VideoCapture(0)\n",
    "\n",
    "while cap.isOpened():\n",
    "    ret, frame = cap.read()\n",
    "    if not ret:\n",
    "        break\n",
    "\n",
    "    h, w, _ = frame.shape\n",
    "    rgb = cv2.cvtColor(frame, cv2.COLOR_BGR2RGB)\n",
    "    results = face_mesh.process(rgb)\n",
    "\n",
    "    if results.multi_face_landmarks:\n",
    "        for landmarks in results.multi_face_landmarks:\n",
    "            # get coordinates\n",
    "            def get_coords(indices):\n",
    "                return [(int(landmarks.landmark[i].x * w), int(landmarks.landmark[i].y * h)) for i in indices]\n",
    "\n",
    "            left_eye = get_coords(LEFT_EYE)\n",
    "            right_eye = get_coords(RIGHT_EYE)\n",
    "            mouth = get_coords(OUTER_MOUTH)\n",
    "\n",
    "            # calculate EAR and MAR\n",
    "            ear = (calculate_ear(left_eye) + calculate_ear(right_eye)) / 2.0\n",
    "            mar = calculate_mar(mouth)\n",
    "\n",
    "            # determine status\n",
    "            status = \"Alert\"\n",
    "            if ear < EAR_THRESHOLD and mar > MAR_THRESHOLD:\n",
    "                status = \"Drowsy + Yawning\"\n",
    "            elif ear < EAR_THRESHOLD:\n",
    "                status = \"Drowsy\"\n",
    "            elif mar > MAR_THRESHOLD:\n",
    "                status = \"Yawning\"\n",
    "\n",
    "            # draw landmarks\n",
    "            for x, y in left_eye + right_eye + mouth:\n",
    "                cv2.circle(frame, (x, y), 2, (0, 255, 0), -1)\n",
    "\n",
    "            # display values\n",
    "            cv2.putText(frame, f\"EAR: {ear:.2f}\", (10, 30), cv2.FONT_HERSHEY_SIMPLEX, 0.6, (255, 255, 0), 2)\n",
    "            cv2.putText(frame, f\"MAR: {mar:.2f}\", (10, 60), cv2.FONT_HERSHEY_SIMPLEX, 0.6, (255, 0, 255), 2)\n",
    "            cv2.putText(frame, f\"Status: {status}\", (10, 90), cv2.FONT_HERSHEY_SIMPLEX, 0.7, (0, 0, 255), 2)\n",
    "\n",
    "    cv2.imshow(\"Drowsiness Detection (MediaPipe)\", frame)\n",
    "    if cv2.waitKey(1) & 0xFF == 27:\n",
    "        break\n",
    "\n",
    "cap.release()\n",
    "cv2.destroyAllWindows()"
   ]
  }
 ],
 "metadata": {
  "kernelspec": {
   "display_name": "Python 3 (ipykernel)",
   "language": "python",
   "name": "python3"
  },
  "language_info": {
   "codemirror_mode": {
    "name": "ipython",
    "version": 3
   },
   "file_extension": ".py",
   "mimetype": "text/x-python",
   "name": "python",
   "nbconvert_exporter": "python",
   "pygments_lexer": "ipython3",
   "version": "3.11.9"
  }
 },
 "nbformat": 4,
 "nbformat_minor": 5
}
